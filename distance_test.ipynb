{
  "cells": [
    {
      "cell_type": "markdown",
      "metadata": {
        "id": "view-in-github",
        "colab_type": "text"
      },
      "source": [
        "<a href=\"https://colab.research.google.com/github/mirzaaa101/Pairwise-Distance-Calculation-Python/blob/main/distance_test.ipynb\" target=\"_parent\"><img src=\"https://colab.research.google.com/assets/colab-badge.svg\" alt=\"Open In Colab\"/></a>"
      ]
    },
    {
      "cell_type": "code",
      "execution_count": null,
      "metadata": {
        "colab": {
          "base_uri": "https://localhost:8080/"
        },
        "id": "Ji_wpSnPs4Wz",
        "outputId": "e883ea1b-caec-4100-a332-19100b3838d9"
      },
      "outputs": [
        {
          "name": "stdout",
          "output_type": "stream",
          "text": [
            "Mounted at /content/drive\n"
          ]
        }
      ],
      "source": [
        "from google.colab import drive\n",
        "drive.mount('/content/drive')"
      ]
    },
    {
      "cell_type": "code",
      "execution_count": null,
      "metadata": {
        "colab": {
          "base_uri": "https://localhost:8080/",
          "height": 206
        },
        "id": "v1BHFIyRs9nk",
        "outputId": "30e38f54-1ef7-4ebe-a136-8ce8a5024f75"
      },
      "outputs": [
        {
          "data": {
            "application/vnd.google.colaboratory.intrinsic+json": {
              "summary": "{\n  \"name\": \"df\",\n  \"rows\": 93137,\n  \"fields\": [\n    {\n      \"column\": \"roofzipcode\",\n      \"properties\": {\n        \"dtype\": \"string\",\n        \"num_unique_values\": 64050,\n        \"samples\": [\n          \"75067-6703\",\n          \"75063-4432\",\n          \"75214-1824\"\n        ],\n        \"semantic_type\": \"\",\n        \"description\": \"\"\n      }\n    },\n    {\n      \"column\": \"rooflatitude\",\n      \"properties\": {\n        \"dtype\": \"number\",\n        \"std\": 0.17692414355111158,\n        \"min\": 32.22869,\n        \"max\": 33.56091,\n        \"num_unique_values\": 46973,\n        \"samples\": [\n          32.80564,\n          32.64355,\n          32.89372\n        ],\n        \"semantic_type\": \"\",\n        \"description\": \"\"\n      }\n    },\n    {\n      \"column\": \"rooflongitude\",\n      \"properties\": {\n        \"dtype\": \"number\",\n        \"std\": 0.17246605067287352,\n        \"min\": -97.2028,\n        \"max\": -94.85243,\n        \"num_unique_values\": 43238,\n        \"samples\": [\n          -96.74479,\n          -97.04828,\n          -96.65631\n        ],\n        \"semantic_type\": \"\",\n        \"description\": \"\"\n      }\n    },\n    {\n      \"column\": \"code\",\n      \"properties\": {\n        \"dtype\": \"number\",\n        \"std\": 29849,\n        \"min\": 1,\n        \"max\": 103486,\n        \"num_unique_values\": 93137,\n        \"samples\": [\n          72398,\n          35004,\n          32074\n        ],\n        \"semantic_type\": \"\",\n        \"description\": \"\"\n      }\n    }\n  ]\n}",
              "type": "dataframe",
              "variable_name": "df"
            },
            "text/html": [
              "\n",
              "  <div id=\"df-06cc1253-8015-4431-9b0e-382956907c2c\" class=\"colab-df-container\">\n",
              "    <div>\n",
              "<style scoped>\n",
              "    .dataframe tbody tr th:only-of-type {\n",
              "        vertical-align: middle;\n",
              "    }\n",
              "\n",
              "    .dataframe tbody tr th {\n",
              "        vertical-align: top;\n",
              "    }\n",
              "\n",
              "    .dataframe thead th {\n",
              "        text-align: right;\n",
              "    }\n",
              "</style>\n",
              "<table border=\"1\" class=\"dataframe\">\n",
              "  <thead>\n",
              "    <tr style=\"text-align: right;\">\n",
              "      <th></th>\n",
              "      <th>roofzipcode</th>\n",
              "      <th>rooflatitude</th>\n",
              "      <th>rooflongitude</th>\n",
              "      <th>code</th>\n",
              "    </tr>\n",
              "  </thead>\n",
              "  <tbody>\n",
              "    <tr>\n",
              "      <th>0</th>\n",
              "      <td>75217-3525</td>\n",
              "      <td>32.72692</td>\n",
              "      <td>-96.64140</td>\n",
              "      <td>73443</td>\n",
              "    </tr>\n",
              "    <tr>\n",
              "      <th>1</th>\n",
              "      <td>75217-3157</td>\n",
              "      <td>32.74839</td>\n",
              "      <td>-96.64530</td>\n",
              "      <td>59321</td>\n",
              "    </tr>\n",
              "    <tr>\n",
              "      <th>2</th>\n",
              "      <td>75214-4004</td>\n",
              "      <td>32.81262</td>\n",
              "      <td>-96.73865</td>\n",
              "      <td>24757</td>\n",
              "    </tr>\n",
              "    <tr>\n",
              "      <th>3</th>\n",
              "      <td>75043-8909</td>\n",
              "      <td>32.86000</td>\n",
              "      <td>-96.61690</td>\n",
              "      <td>65139</td>\n",
              "    </tr>\n",
              "    <tr>\n",
              "      <th>4</th>\n",
              "      <td>75159-5104</td>\n",
              "      <td>32.59336</td>\n",
              "      <td>-96.55544</td>\n",
              "      <td>68892</td>\n",
              "    </tr>\n",
              "  </tbody>\n",
              "</table>\n",
              "</div>\n",
              "    <div class=\"colab-df-buttons\">\n",
              "\n",
              "  <div class=\"colab-df-container\">\n",
              "    <button class=\"colab-df-convert\" onclick=\"convertToInteractive('df-06cc1253-8015-4431-9b0e-382956907c2c')\"\n",
              "            title=\"Convert this dataframe to an interactive table.\"\n",
              "            style=\"display:none;\">\n",
              "\n",
              "  <svg xmlns=\"http://www.w3.org/2000/svg\" height=\"24px\" viewBox=\"0 -960 960 960\">\n",
              "    <path d=\"M120-120v-720h720v720H120Zm60-500h600v-160H180v160Zm220 220h160v-160H400v160Zm0 220h160v-160H400v160ZM180-400h160v-160H180v160Zm440 0h160v-160H620v160ZM180-180h160v-160H180v160Zm440 0h160v-160H620v160Z\"/>\n",
              "  </svg>\n",
              "    </button>\n",
              "\n",
              "  <style>\n",
              "    .colab-df-container {\n",
              "      display:flex;\n",
              "      gap: 12px;\n",
              "    }\n",
              "\n",
              "    .colab-df-convert {\n",
              "      background-color: #E8F0FE;\n",
              "      border: none;\n",
              "      border-radius: 50%;\n",
              "      cursor: pointer;\n",
              "      display: none;\n",
              "      fill: #1967D2;\n",
              "      height: 32px;\n",
              "      padding: 0 0 0 0;\n",
              "      width: 32px;\n",
              "    }\n",
              "\n",
              "    .colab-df-convert:hover {\n",
              "      background-color: #E2EBFA;\n",
              "      box-shadow: 0px 1px 2px rgba(60, 64, 67, 0.3), 0px 1px 3px 1px rgba(60, 64, 67, 0.15);\n",
              "      fill: #174EA6;\n",
              "    }\n",
              "\n",
              "    .colab-df-buttons div {\n",
              "      margin-bottom: 4px;\n",
              "    }\n",
              "\n",
              "    [theme=dark] .colab-df-convert {\n",
              "      background-color: #3B4455;\n",
              "      fill: #D2E3FC;\n",
              "    }\n",
              "\n",
              "    [theme=dark] .colab-df-convert:hover {\n",
              "      background-color: #434B5C;\n",
              "      box-shadow: 0px 1px 3px 1px rgba(0, 0, 0, 0.15);\n",
              "      filter: drop-shadow(0px 1px 2px rgba(0, 0, 0, 0.3));\n",
              "      fill: #FFFFFF;\n",
              "    }\n",
              "  </style>\n",
              "\n",
              "    <script>\n",
              "      const buttonEl =\n",
              "        document.querySelector('#df-06cc1253-8015-4431-9b0e-382956907c2c button.colab-df-convert');\n",
              "      buttonEl.style.display =\n",
              "        google.colab.kernel.accessAllowed ? 'block' : 'none';\n",
              "\n",
              "      async function convertToInteractive(key) {\n",
              "        const element = document.querySelector('#df-06cc1253-8015-4431-9b0e-382956907c2c');\n",
              "        const dataTable =\n",
              "          await google.colab.kernel.invokeFunction('convertToInteractive',\n",
              "                                                    [key], {});\n",
              "        if (!dataTable) return;\n",
              "\n",
              "        const docLinkHtml = 'Like what you see? Visit the ' +\n",
              "          '<a target=\"_blank\" href=https://colab.research.google.com/notebooks/data_table.ipynb>data table notebook</a>'\n",
              "          + ' to learn more about interactive tables.';\n",
              "        element.innerHTML = '';\n",
              "        dataTable['output_type'] = 'display_data';\n",
              "        await google.colab.output.renderOutput(dataTable, element);\n",
              "        const docLink = document.createElement('div');\n",
              "        docLink.innerHTML = docLinkHtml;\n",
              "        element.appendChild(docLink);\n",
              "      }\n",
              "    </script>\n",
              "  </div>\n",
              "\n",
              "\n",
              "<div id=\"df-59cbd8c8-7ced-49ca-b651-f0bf515f62e5\">\n",
              "  <button class=\"colab-df-quickchart\" onclick=\"quickchart('df-59cbd8c8-7ced-49ca-b651-f0bf515f62e5')\"\n",
              "            title=\"Suggest charts\"\n",
              "            style=\"display:none;\">\n",
              "\n",
              "<svg xmlns=\"http://www.w3.org/2000/svg\" height=\"24px\"viewBox=\"0 0 24 24\"\n",
              "     width=\"24px\">\n",
              "    <g>\n",
              "        <path d=\"M19 3H5c-1.1 0-2 .9-2 2v14c0 1.1.9 2 2 2h14c1.1 0 2-.9 2-2V5c0-1.1-.9-2-2-2zM9 17H7v-7h2v7zm4 0h-2V7h2v10zm4 0h-2v-4h2v4z\"/>\n",
              "    </g>\n",
              "</svg>\n",
              "  </button>\n",
              "\n",
              "<style>\n",
              "  .colab-df-quickchart {\n",
              "      --bg-color: #E8F0FE;\n",
              "      --fill-color: #1967D2;\n",
              "      --hover-bg-color: #E2EBFA;\n",
              "      --hover-fill-color: #174EA6;\n",
              "      --disabled-fill-color: #AAA;\n",
              "      --disabled-bg-color: #DDD;\n",
              "  }\n",
              "\n",
              "  [theme=dark] .colab-df-quickchart {\n",
              "      --bg-color: #3B4455;\n",
              "      --fill-color: #D2E3FC;\n",
              "      --hover-bg-color: #434B5C;\n",
              "      --hover-fill-color: #FFFFFF;\n",
              "      --disabled-bg-color: #3B4455;\n",
              "      --disabled-fill-color: #666;\n",
              "  }\n",
              "\n",
              "  .colab-df-quickchart {\n",
              "    background-color: var(--bg-color);\n",
              "    border: none;\n",
              "    border-radius: 50%;\n",
              "    cursor: pointer;\n",
              "    display: none;\n",
              "    fill: var(--fill-color);\n",
              "    height: 32px;\n",
              "    padding: 0;\n",
              "    width: 32px;\n",
              "  }\n",
              "\n",
              "  .colab-df-quickchart:hover {\n",
              "    background-color: var(--hover-bg-color);\n",
              "    box-shadow: 0 1px 2px rgba(60, 64, 67, 0.3), 0 1px 3px 1px rgba(60, 64, 67, 0.15);\n",
              "    fill: var(--button-hover-fill-color);\n",
              "  }\n",
              "\n",
              "  .colab-df-quickchart-complete:disabled,\n",
              "  .colab-df-quickchart-complete:disabled:hover {\n",
              "    background-color: var(--disabled-bg-color);\n",
              "    fill: var(--disabled-fill-color);\n",
              "    box-shadow: none;\n",
              "  }\n",
              "\n",
              "  .colab-df-spinner {\n",
              "    border: 2px solid var(--fill-color);\n",
              "    border-color: transparent;\n",
              "    border-bottom-color: var(--fill-color);\n",
              "    animation:\n",
              "      spin 1s steps(1) infinite;\n",
              "  }\n",
              "\n",
              "  @keyframes spin {\n",
              "    0% {\n",
              "      border-color: transparent;\n",
              "      border-bottom-color: var(--fill-color);\n",
              "      border-left-color: var(--fill-color);\n",
              "    }\n",
              "    20% {\n",
              "      border-color: transparent;\n",
              "      border-left-color: var(--fill-color);\n",
              "      border-top-color: var(--fill-color);\n",
              "    }\n",
              "    30% {\n",
              "      border-color: transparent;\n",
              "      border-left-color: var(--fill-color);\n",
              "      border-top-color: var(--fill-color);\n",
              "      border-right-color: var(--fill-color);\n",
              "    }\n",
              "    40% {\n",
              "      border-color: transparent;\n",
              "      border-right-color: var(--fill-color);\n",
              "      border-top-color: var(--fill-color);\n",
              "    }\n",
              "    60% {\n",
              "      border-color: transparent;\n",
              "      border-right-color: var(--fill-color);\n",
              "    }\n",
              "    80% {\n",
              "      border-color: transparent;\n",
              "      border-right-color: var(--fill-color);\n",
              "      border-bottom-color: var(--fill-color);\n",
              "    }\n",
              "    90% {\n",
              "      border-color: transparent;\n",
              "      border-bottom-color: var(--fill-color);\n",
              "    }\n",
              "  }\n",
              "</style>\n",
              "\n",
              "  <script>\n",
              "    async function quickchart(key) {\n",
              "      const quickchartButtonEl =\n",
              "        document.querySelector('#' + key + ' button');\n",
              "      quickchartButtonEl.disabled = true;  // To prevent multiple clicks.\n",
              "      quickchartButtonEl.classList.add('colab-df-spinner');\n",
              "      try {\n",
              "        const charts = await google.colab.kernel.invokeFunction(\n",
              "            'suggestCharts', [key], {});\n",
              "      } catch (error) {\n",
              "        console.error('Error during call to suggestCharts:', error);\n",
              "      }\n",
              "      quickchartButtonEl.classList.remove('colab-df-spinner');\n",
              "      quickchartButtonEl.classList.add('colab-df-quickchart-complete');\n",
              "    }\n",
              "    (() => {\n",
              "      let quickchartButtonEl =\n",
              "        document.querySelector('#df-59cbd8c8-7ced-49ca-b651-f0bf515f62e5 button');\n",
              "      quickchartButtonEl.style.display =\n",
              "        google.colab.kernel.accessAllowed ? 'block' : 'none';\n",
              "    })();\n",
              "  </script>\n",
              "</div>\n",
              "\n",
              "    </div>\n",
              "  </div>\n"
            ],
            "text/plain": [
              "  roofzipcode  rooflatitude  rooflongitude   code\n",
              "0  75217-3525      32.72692      -96.64140  73443\n",
              "1  75217-3157      32.74839      -96.64530  59321\n",
              "2  75214-4004      32.81262      -96.73865  24757\n",
              "3  75043-8909      32.86000      -96.61690  65139\n",
              "4  75159-5104      32.59336      -96.55544  68892"
            ]
          },
          "execution_count": 2,
          "metadata": {},
          "output_type": "execute_result"
        }
      ],
      "source": [
        "import os\n",
        "import glob\n",
        "import pandas as pd\n",
        "import numpy as np\n",
        "from sklearn.metrics import pairwise_distances_chunked\n",
        "import matplotlib.pyplot as plt\n",
        "\n",
        "PATH = \"/content/drive/MyDrive/Upwork/\"\n",
        "df = pd.read_excel(f\"{PATH}sample_data.xlsx\")\n",
        "df.head()"
      ]
    },
    {
      "cell_type": "code",
      "execution_count": null,
      "metadata": {
        "colab": {
          "base_uri": "https://localhost:8080/"
        },
        "id": "OZsXVgz8tgym",
        "outputId": "8e887f68-9030-4c62-e2f7-abba6c0fbb35"
      },
      "outputs": [
        {
          "name": "stdout",
          "output_type": "stream",
          "text": [
            "<class 'pandas.core.frame.DataFrame'>\n",
            "RangeIndex: 93137 entries, 0 to 93136\n",
            "Data columns (total 4 columns):\n",
            " #   Column         Non-Null Count  Dtype  \n",
            "---  ------         --------------  -----  \n",
            " 0   roofzipcode    93137 non-null  object \n",
            " 1   rooflatitude   93137 non-null  float64\n",
            " 2   rooflongitude  93137 non-null  float64\n",
            " 3   code           93137 non-null  int64  \n",
            "dtypes: float64(2), int64(1), object(1)\n",
            "memory usage: 2.8+ MB\n"
          ]
        }
      ],
      "source": [
        "df.info()"
      ]
    },
    {
      "cell_type": "code",
      "execution_count": null,
      "metadata": {
        "id": "mArEEBHft3Cx"
      },
      "outputs": [],
      "source": [
        "df['rooflongitude'] = df['rooflongitude'].astype(str)\n",
        "df['rooflongitude'] = df['rooflongitude'].str.replace('-', '')\n",
        "df['rooflongitude'] = df['rooflongitude'].astype(float)"
      ]
    },
    {
      "cell_type": "code",
      "execution_count": null,
      "metadata": {
        "colab": {
          "base_uri": "https://localhost:8080/"
        },
        "id": "kQJFlsXstVWW",
        "outputId": "5d1a0fa6-5954-4d55-eb5d-01f7b85d9d01"
      },
      "outputs": [
        {
          "data": {
            "text/plain": [
              "(93137, 2)"
            ]
          },
          "execution_count": 7,
          "metadata": {},
          "output_type": "execute_result"
        }
      ],
      "source": [
        "X = np.array(df[[\"rooflatitude\", \"rooflongitude\"]].values)\n",
        "X.shape"
      ]
    },
    {
      "cell_type": "code",
      "execution_count": null,
      "metadata": {
        "id": "wBIM2xxevY23"
      },
      "outputs": [],
      "source": [
        "def vicenty_distance(point1, point2):\n",
        "    lat1, lon1 = np.radians(point1)\n",
        "    lat2, lon2 = np.radians(point2)\n",
        "\n",
        "    dlon = lon2 - lon1\n",
        "    dlat = lat2 - lat1\n",
        "\n",
        "    a = np.sin(dlat / 2) ** 2 + np.cos(lat1) * np.cos(lat2) * np.sin(dlon / 2) ** 2\n",
        "    c = 2 * np.arcsin(np.sqrt(a))\n",
        "\n",
        "    radius = 6371000  # Earth Radius in meters\n",
        "    distance = radius * c\n",
        "    return distance"
      ]
    },
    {
      "cell_type": "code",
      "execution_count": null,
      "metadata": {
        "id": "iTY_OkHJtVdV"
      },
      "outputs": [],
      "source": [
        "D = pairwise_distances_chunked(X, metric=\"haversine\")"
      ]
    },
    {
      "cell_type": "code",
      "execution_count": null,
      "metadata": {
        "colab": {
          "base_uri": "https://localhost:8080/",
          "height": 1000
        },
        "id": "fXWVCL98tVfo",
        "outputId": "9c01c063-c471-422c-c91a-40e32702ef91"
      },
      "outputs": [
        {
          "name": "stdout",
          "output_type": "stream",
          "text": [
            "[[0.         0.02149147 0.08812234 ... 0.13166273 0.12848112 0.23933522]\n",
            " [0.02149147 0.         0.0669467  ... 0.11040407 0.10703179 0.21784585]\n",
            " [0.08812234 0.0669467  0.         ... 0.0435685  0.04153002 0.15303347]\n",
            " ...\n",
            " [0.01435611 0.00926595 0.0757378  ... 0.11906191 0.1153643  0.22577531]\n",
            " [0.0550002  0.05523249 0.08716652 ... 0.12563597 0.12697042 0.23609945]\n",
            " [0.12455867 0.10306846 0.04005748 ... 0.0197905  0.00932544 0.11477812]]\n",
            "[[0.24517343 0.22369173 0.159201   ... 0.11721234 0.11767593 0.00691685]\n",
            " [0.20098347 0.17952551 0.11358636 ... 0.07058251 0.07250572 0.04096553]\n",
            " [0.07761977 0.09619432 0.15448004 ... 0.19648323 0.19595223 0.30717977]\n",
            " ...\n",
            " [0.20906286 0.18759059 0.12184166 ... 0.07896678 0.08063013 0.03251043]\n",
            " [0.09669549 0.07883971 0.0354972  ... 0.05595659 0.06060574 0.16387187]\n",
            " [0.16677976 0.18431142 0.23659337 ... 0.27577888 0.27705478 0.38596335]]\n",
            "[[0.14317562 0.16124352 0.21567544 ... 0.25585449 0.25657988 0.36646377]\n",
            " [0.22277101 0.20129765 0.13719067 ... 0.09579889 0.09567172 0.01757738]\n",
            " [0.01512363 0.013131   0.07518984 ... 0.11872018 0.11622783 0.22758923]\n",
            " ...\n",
            " [0.05104932 0.051997   0.08700154 ... 0.12623781 0.12723512 0.236874  ]\n",
            " [0.19359302 0.1721131  0.10804867 ... 0.06729601 0.06656609 0.04589593]\n",
            " [0.19846612 0.17700366 0.11339729 ... 0.07305587 0.07199526 0.04159309]]\n",
            "[[0.01829351 0.00325636 0.06999038 ... 0.11348368 0.11019494 0.22106114]\n",
            " [0.23443823 0.21294919 0.14818093 ... 0.10602832 0.10667475 0.00490248]\n",
            " [0.0571286  0.03597876 0.03099909 ... 0.0745362  0.07171442 0.18309627]\n",
            " ...\n",
            " [0.31921109 0.29776648 0.23380596 ... 0.19184948 0.1922761  0.08105574]\n",
            " [0.26050941 0.2390393  0.1748033  ... 0.13292338 0.13327333 0.022384  ]\n",
            " [0.31178973 0.29035793 0.22662041 ... 0.18485928 0.18509713 0.07416098]]\n",
            "[[0.34712826 0.32571248 0.26208924 ... 0.22028022 0.22056624 0.10951432]\n",
            " [0.09114895 0.07027654 0.006266   ... 0.04135373 0.04084379 0.15179757]\n",
            " [0.10994416 0.09189057 0.0421289  ... 0.05062685 0.05727073 0.15474161]\n",
            " ...\n",
            " [0.22407816 0.2026039  0.13846248 ... 0.09701831 0.09694061 0.01627794]\n",
            " [0.1233628  0.10190098 0.04076493 ... 0.02462389 0.01413243 0.11612144]\n",
            " [0.09848053 0.07764026 0.0121945  ... 0.03451898 0.03503872 0.14523505]]\n",
            "[[0.17166471 0.18897497 0.2405036  ... 0.27936224 0.28080459 0.38937249]\n",
            " [0.07851771 0.05774023 0.03206549 ... 0.06414602 0.05717332 0.16328971]\n",
            " [0.29688897 0.2755075  0.21250502 ... 0.17139403 0.17106092 0.06168021]\n",
            " ...\n",
            " [0.06852826 0.08346171 0.14562737 ... 0.18684464 0.18104191 0.28584942]\n",
            " [0.37871483 0.35728804 0.29343937 ... 0.25139025 0.25190936 0.14059083]\n",
            " [0.26802563 0.24655661 0.18231382 ... 0.14037991 0.14078419 0.0296919 ]]\n",
            "[[0.02502621 0.00357024 0.06360408 ... 0.10701328 0.10355133 0.21430997]\n",
            " [0.1876135  0.16614532 0.10040749 ... 0.05773569 0.05916842 0.05310249]\n",
            " [0.45591116 0.43453358 0.37112865 ... 0.3292234  0.32960535 0.2184198 ]\n",
            " ...\n",
            " [0.13449219 0.11446069 0.05080337 ... 0.02741471 0.03753083 0.12225131]\n",
            " [0.19114358 0.16965877 0.10541779 ... 0.06451722 0.06391385 0.0482393 ]\n",
            " [0.34300039 0.32151484 0.2566086  ... 0.21393203 0.21516502 0.10369917]]\n",
            "[[0.41140462 0.39009303 0.3274397  ... 0.28611689 0.28598661 0.17555755]\n",
            " [0.20833689 0.18684687 0.12165794 ... 0.07934408 0.08020924 0.03146481]\n",
            " [0.16339165 0.14191894 0.076421   ... 0.03468533 0.03500957 0.07663629]\n",
            " ...\n",
            " [0.26632643 0.24485391 0.1805343  ... 0.13854738 0.13900606 0.02781749]\n",
            " [0.00928486 0.01898138 0.08291694 ... 0.12645493 0.12390363 0.23521817]\n",
            " [0.2652793  0.24380708 0.17949927 ... 0.13752846 0.13797062 0.02681895]]\n",
            "[[0.53109746 0.50973784 0.44641037 ... 0.40445527 0.40488617 0.29365469]\n",
            " [0.14155813 0.12007754 0.0570204  ... 0.02441847 0.01749983 0.0978207 ]\n",
            " [0.16539461 0.14398692 0.07769219 ... 0.03460158 0.0370953  0.07632548]\n",
            " ...\n",
            " [0.36704206 0.3456091  0.28169998 ... 0.23963732 0.24016999 0.1288384 ]\n",
            " [0.15700075 0.17244497 0.21940571 ... 0.25678663 0.25888473 0.36599397]\n",
            " [0.1738889  0.15294234 0.08610838 ... 0.04377731 0.0508826  0.07969141]]\n",
            "[[0.23899579 0.21750857 0.15282267 ... 0.11070826 0.11130972 0.00137671]\n",
            " [0.0238611  0.02255766 0.08218659 ... 0.12433002 0.11940871 0.22780505]\n",
            " [0.44238983 0.4212784  0.36020279 ... 0.31986576 0.31901191 0.21024   ]\n",
            " ...\n",
            " [0.05490078 0.03394268 0.04008601 ... 0.08110633 0.07609826 0.18535377]\n",
            " [0.10311876 0.12007426 0.17339744 ... 0.21375416 0.21434511 0.32445188]\n",
            " [0.35358137 0.33213173 0.26799885 ... 0.22581675 0.22647245 0.11504484]]\n"
          ]
        },
        {
          "ename": "KeyboardInterrupt",
          "evalue": "",
          "output_type": "error",
          "traceback": [
            "\u001b[0;31m---------------------------------------------------------------------------\u001b[0m",
            "\u001b[0;31mKeyboardInterrupt\u001b[0m                         Traceback (most recent call last)",
            "\u001b[0;32m<ipython-input-11-ab0c48aaa78e>\u001b[0m in \u001b[0;36m<cell line: 1>\u001b[0;34m()\u001b[0m\n\u001b[0;32m----> 1\u001b[0;31m \u001b[0;32mfor\u001b[0m \u001b[0mchunk\u001b[0m \u001b[0;32min\u001b[0m \u001b[0mD\u001b[0m\u001b[0;34m:\u001b[0m\u001b[0;34m\u001b[0m\u001b[0;34m\u001b[0m\u001b[0m\n\u001b[0m\u001b[1;32m      2\u001b[0m     \u001b[0mprint\u001b[0m\u001b[0;34m(\u001b[0m\u001b[0mchunk\u001b[0m\u001b[0;34m)\u001b[0m\u001b[0;34m\u001b[0m\u001b[0;34m\u001b[0m\u001b[0m\n",
            "\u001b[0;32m/usr/local/lib/python3.10/dist-packages/sklearn/metrics/pairwise.py\u001b[0m in \u001b[0;36mpairwise_distances_chunked\u001b[0;34m(X, Y, reduce_func, metric, n_jobs, working_memory, **kwds)\u001b[0m\n\u001b[1;32m   2016\u001b[0m         \u001b[0;32melse\u001b[0m\u001b[0;34m:\u001b[0m\u001b[0;34m\u001b[0m\u001b[0;34m\u001b[0m\u001b[0m\n\u001b[1;32m   2017\u001b[0m             \u001b[0mX_chunk\u001b[0m \u001b[0;34m=\u001b[0m \u001b[0mX\u001b[0m\u001b[0;34m[\u001b[0m\u001b[0msl\u001b[0m\u001b[0;34m]\u001b[0m\u001b[0;34m\u001b[0m\u001b[0;34m\u001b[0m\u001b[0m\n\u001b[0;32m-> 2018\u001b[0;31m         \u001b[0mD_chunk\u001b[0m \u001b[0;34m=\u001b[0m \u001b[0mpairwise_distances\u001b[0m\u001b[0;34m(\u001b[0m\u001b[0mX_chunk\u001b[0m\u001b[0;34m,\u001b[0m \u001b[0mY\u001b[0m\u001b[0;34m,\u001b[0m \u001b[0mmetric\u001b[0m\u001b[0;34m=\u001b[0m\u001b[0mmetric\u001b[0m\u001b[0;34m,\u001b[0m \u001b[0mn_jobs\u001b[0m\u001b[0;34m=\u001b[0m\u001b[0mn_jobs\u001b[0m\u001b[0;34m,\u001b[0m \u001b[0;34m**\u001b[0m\u001b[0mkwds\u001b[0m\u001b[0;34m)\u001b[0m\u001b[0;34m\u001b[0m\u001b[0;34m\u001b[0m\u001b[0m\n\u001b[0m\u001b[1;32m   2019\u001b[0m         if (X is Y or Y is None) and PAIRWISE_DISTANCE_FUNCTIONS.get(\n\u001b[1;32m   2020\u001b[0m             \u001b[0mmetric\u001b[0m\u001b[0;34m,\u001b[0m \u001b[0;32mNone\u001b[0m\u001b[0;34m\u001b[0m\u001b[0;34m\u001b[0m\u001b[0m\n",
            "\u001b[0;32m/usr/local/lib/python3.10/dist-packages/sklearn/metrics/pairwise.py\u001b[0m in \u001b[0;36mpairwise_distances\u001b[0;34m(X, Y, metric, n_jobs, force_all_finite, **kwds)\u001b[0m\n\u001b[1;32m   2194\u001b[0m         \u001b[0mfunc\u001b[0m \u001b[0;34m=\u001b[0m \u001b[0mpartial\u001b[0m\u001b[0;34m(\u001b[0m\u001b[0mdistance\u001b[0m\u001b[0;34m.\u001b[0m\u001b[0mcdist\u001b[0m\u001b[0;34m,\u001b[0m \u001b[0mmetric\u001b[0m\u001b[0;34m=\u001b[0m\u001b[0mmetric\u001b[0m\u001b[0;34m,\u001b[0m \u001b[0;34m**\u001b[0m\u001b[0mkwds\u001b[0m\u001b[0;34m)\u001b[0m\u001b[0;34m\u001b[0m\u001b[0;34m\u001b[0m\u001b[0m\n\u001b[1;32m   2195\u001b[0m \u001b[0;34m\u001b[0m\u001b[0m\n\u001b[0;32m-> 2196\u001b[0;31m     \u001b[0;32mreturn\u001b[0m \u001b[0m_parallel_pairwise\u001b[0m\u001b[0;34m(\u001b[0m\u001b[0mX\u001b[0m\u001b[0;34m,\u001b[0m \u001b[0mY\u001b[0m\u001b[0;34m,\u001b[0m \u001b[0mfunc\u001b[0m\u001b[0;34m,\u001b[0m \u001b[0mn_jobs\u001b[0m\u001b[0;34m,\u001b[0m \u001b[0;34m**\u001b[0m\u001b[0mkwds\u001b[0m\u001b[0;34m)\u001b[0m\u001b[0;34m\u001b[0m\u001b[0;34m\u001b[0m\u001b[0m\n\u001b[0m\u001b[1;32m   2197\u001b[0m \u001b[0;34m\u001b[0m\u001b[0m\n\u001b[1;32m   2198\u001b[0m \u001b[0;34m\u001b[0m\u001b[0m\n",
            "\u001b[0;32m/usr/local/lib/python3.10/dist-packages/sklearn/metrics/pairwise.py\u001b[0m in \u001b[0;36m_parallel_pairwise\u001b[0;34m(X, Y, func, n_jobs, **kwds)\u001b[0m\n\u001b[1;32m   1764\u001b[0m \u001b[0;34m\u001b[0m\u001b[0m\n\u001b[1;32m   1765\u001b[0m     \u001b[0;32mif\u001b[0m \u001b[0meffective_n_jobs\u001b[0m\u001b[0;34m(\u001b[0m\u001b[0mn_jobs\u001b[0m\u001b[0;34m)\u001b[0m \u001b[0;34m==\u001b[0m \u001b[0;36m1\u001b[0m\u001b[0;34m:\u001b[0m\u001b[0;34m\u001b[0m\u001b[0;34m\u001b[0m\u001b[0m\n\u001b[0;32m-> 1766\u001b[0;31m         \u001b[0;32mreturn\u001b[0m \u001b[0mfunc\u001b[0m\u001b[0;34m(\u001b[0m\u001b[0mX\u001b[0m\u001b[0;34m,\u001b[0m \u001b[0mY\u001b[0m\u001b[0;34m,\u001b[0m \u001b[0;34m**\u001b[0m\u001b[0mkwds\u001b[0m\u001b[0;34m)\u001b[0m\u001b[0;34m\u001b[0m\u001b[0;34m\u001b[0m\u001b[0m\n\u001b[0m\u001b[1;32m   1767\u001b[0m \u001b[0;34m\u001b[0m\u001b[0m\n\u001b[1;32m   1768\u001b[0m     \u001b[0;31m# enforce a threading backend to prevent data communication overhead\u001b[0m\u001b[0;34m\u001b[0m\u001b[0;34m\u001b[0m\u001b[0m\n",
            "\u001b[0;32m/usr/local/lib/python3.10/dist-packages/sklearn/utils/_param_validation.py\u001b[0m in \u001b[0;36mwrapper\u001b[0;34m(*args, **kwargs)\u001b[0m\n\u001b[1;32m    212\u001b[0m                     )\n\u001b[1;32m    213\u001b[0m                 ):\n\u001b[0;32m--> 214\u001b[0;31m                     \u001b[0;32mreturn\u001b[0m \u001b[0mfunc\u001b[0m\u001b[0;34m(\u001b[0m\u001b[0;34m*\u001b[0m\u001b[0margs\u001b[0m\u001b[0;34m,\u001b[0m \u001b[0;34m**\u001b[0m\u001b[0mkwargs\u001b[0m\u001b[0;34m)\u001b[0m\u001b[0;34m\u001b[0m\u001b[0;34m\u001b[0m\u001b[0m\n\u001b[0m\u001b[1;32m    215\u001b[0m             \u001b[0;32mexcept\u001b[0m \u001b[0mInvalidParameterError\u001b[0m \u001b[0;32mas\u001b[0m \u001b[0me\u001b[0m\u001b[0;34m:\u001b[0m\u001b[0;34m\u001b[0m\u001b[0;34m\u001b[0m\u001b[0m\n\u001b[1;32m    216\u001b[0m                 \u001b[0;31m# When the function is just a wrapper around an estimator, we allow\u001b[0m\u001b[0;34m\u001b[0m\u001b[0;34m\u001b[0m\u001b[0m\n",
            "\u001b[0;32m/usr/local/lib/python3.10/dist-packages/sklearn/metrics/pairwise.py\u001b[0m in \u001b[0;36mhaversine_distances\u001b[0;34m(X, Y)\u001b[0m\n\u001b[1;32m    965\u001b[0m     \u001b[0;32mfrom\u001b[0m \u001b[0;34m.\u001b[0m\u001b[0;34m.\u001b[0m\u001b[0mmetrics\u001b[0m \u001b[0;32mimport\u001b[0m \u001b[0mDistanceMetric\u001b[0m\u001b[0;34m\u001b[0m\u001b[0;34m\u001b[0m\u001b[0m\n\u001b[1;32m    966\u001b[0m \u001b[0;34m\u001b[0m\u001b[0m\n\u001b[0;32m--> 967\u001b[0;31m     \u001b[0;32mreturn\u001b[0m \u001b[0mDistanceMetric\u001b[0m\u001b[0;34m.\u001b[0m\u001b[0mget_metric\u001b[0m\u001b[0;34m(\u001b[0m\u001b[0;34m\"haversine\"\u001b[0m\u001b[0;34m)\u001b[0m\u001b[0;34m.\u001b[0m\u001b[0mpairwise\u001b[0m\u001b[0;34m(\u001b[0m\u001b[0mX\u001b[0m\u001b[0;34m,\u001b[0m \u001b[0mY\u001b[0m\u001b[0;34m)\u001b[0m\u001b[0;34m\u001b[0m\u001b[0;34m\u001b[0m\u001b[0m\n\u001b[0m\u001b[1;32m    968\u001b[0m \u001b[0;34m\u001b[0m\u001b[0m\n\u001b[1;32m    969\u001b[0m \u001b[0;34m\u001b[0m\u001b[0m\n",
            "\u001b[0;31mKeyboardInterrupt\u001b[0m: "
          ]
        }
      ],
      "source": [
        "for chunk in D:\n",
        "    print(chunk)"
      ]
    },
    {
      "cell_type": "code",
      "execution_count": null,
      "metadata": {
        "colab": {
          "background_save": true
        },
        "id": "4Sfifjs_tViL",
        "outputId": "b52032fe-24a2-4f85-aa64-513975d76adf"
      },
      "outputs": [
        {
          "name": "stdout",
          "output_type": "stream",
          "text": [
            "[[    0.          2415.06222691 13171.45638864 ... 21791.58932116\n",
            "  16802.1086868  40466.55615396]\n",
            " [ 2415.06222691     0.         11276.96605752 ... 20021.27059974\n",
            "  14627.59489873 38658.11899464]\n",
            " [13171.45638864 11276.96605752     0.         ...  8783.72487311\n",
            "   4617.99940445 27382.3231565 ]\n",
            " ...\n",
            " [ 2212.22679003  2149.94354715 13359.94993002 ... 22125.42124756\n",
            "  16527.05593653 40739.17731026]\n",
            " [20130.77408826 19878.84948476 14420.40757314 ... 14398.55925556\n",
            "  17765.67068848 28260.60100385]\n",
            " [14124.04662735 11712.70706966  7589.85338079 ... 13699.44550192\n",
            "   6229.907762   30492.07525039]]\n"
          ]
        }
      ],
      "source": [
        "D = pairwise_distances_chunked(X, metric=vicenty_distance)\n",
        "for chunk in D:\n",
        "    print(chunk)"
      ]
    }
  ],
  "metadata": {
    "colab": {
      "provenance": [],
      "authorship_tag": "ABX9TyODeBMeZjccQQY7HRH9/zUs",
      "include_colab_link": true
    },
    "kernelspec": {
      "display_name": "Python 3",
      "name": "python3"
    },
    "language_info": {
      "name": "python"
    }
  },
  "nbformat": 4,
  "nbformat_minor": 0
}